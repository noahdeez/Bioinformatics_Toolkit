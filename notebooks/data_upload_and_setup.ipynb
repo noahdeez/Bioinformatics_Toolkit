{
 "cells": [
  {
   "cell_type": "code",
   "execution_count": null,
   "metadata": {},
   "outputs": [],
   "source": [
    "## **Bioinformatics Toolkit: Data Upload and Setup**"
   ]
  },
  {
   "cell_type": "code",
   "execution_count": null,
   "metadata": {},
   "outputs": [],
   "source": [
    "**This notebook provides an interactive interface for uploading, inspecting, and storing bioinformatics data. By the end of this notebook, you will have loaded your CSV data into a SQLite database and ensured its integrity.**\n"
   ]
  },
  {
   "cell_type": "code",
   "execution_count": null,
   "metadata": {},
   "outputs": [],
   "source": [
    "# Necessary imports for our notebook operations.\n",
    "# 'pandas' for data manipulation and 'database' for our SQLite operations.\n",
    "\n",
    "import pandas as pd\n",
    "from src import database"
   ]
  }
 ],
 "metadata": {
  "language_info": {
   "name": "python"
  },
  "orig_nbformat": 4
 },
 "nbformat": 4,
 "nbformat_minor": 2
}
