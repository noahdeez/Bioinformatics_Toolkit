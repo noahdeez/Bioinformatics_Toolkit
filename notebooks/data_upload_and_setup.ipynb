{
 "cells": [
  {
   "cell_type": "markdown",
   "metadata": {},
   "source": [
    "## **Bioinformatics Toolkit: Data Upload and Setup**"
   ]
  },
  {
   "cell_type": "markdown",
   "metadata": {},
   "source": [
    "**This notebook provides an interactive interface for uploading, inspecting, and storing bioinformatics data. By the end of this notebook, you will have loaded your CSV data into a SQLite database and ensured its integrity.**\n"
   ]
  },
  {
   "cell_type": "code",
   "execution_count": 2,
   "metadata": {},
   "outputs": [],
   "source": [
    "# Necessary imports for our notebook operations.\n",
    "# 'pandas' for data manipulation and 'database' for our SQLite operations.\n",
    "\n",
    "import sys\n",
    "sys.path.append(\"../\")\n",
    "\n",
    "import pandas as pd\n",
    "from src import database\n",
    "import datetime"
   ]
  },
  {
   "cell_type": "code",
   "execution_count": 3,
   "metadata": {},
   "outputs": [],
   "source": [
    "# Create the SQLite database connection\n",
    "conn = database.create_connection()\n",
    "\n",
    "# Create the genetic_data table with the provided schema\n",
    "create_table_sql = \"\"\"\n",
    "CREATE TABLE IF NOT EXISTS genetic_data (\n",
    "    id INTEGER PRIMARY KEY AUTOINCREMENT, -- This auto-increments and ensures each row has a unique ID\n",
    "    rsid_key TEXT NOT NULL,\n",
    "    clean_variant_name_fixed TEXT NOT NULL,\n",
    "    clean_pip_score REAL,\n",
    "    clean_p_value REAL,\n",
    "    clean_pip_score_filter TEXT,\n",
    "    sequence_250bp TEXT,\n",
    "    extracted_ref TEXT,\n",
    "    original_ref TEXT,\n",
    "    upload_timestamp DATETIME DEFAULT CURRENT_TIMESTAMP -- This adds the current timestamp when a row is inserted\n",
    ");\n",
    "\"\"\"\n",
    "\n",
    "database.create_table(conn, create_table_sql)\n"
   ]
  },
  {
   "cell_type": "code",
   "execution_count": 5,
   "metadata": {},
   "outputs": [
    {
     "data": {
      "text/html": [
       "<div>\n",
       "<style scoped>\n",
       "    .dataframe tbody tr th:only-of-type {\n",
       "        vertical-align: middle;\n",
       "    }\n",
       "\n",
       "    .dataframe tbody tr th {\n",
       "        vertical-align: top;\n",
       "    }\n",
       "\n",
       "    .dataframe thead th {\n",
       "        text-align: right;\n",
       "    }\n",
       "</style>\n",
       "<table border=\"1\" class=\"dataframe\">\n",
       "  <thead>\n",
       "    <tr style=\"text-align: right;\">\n",
       "      <th></th>\n",
       "      <th>rsid_key</th>\n",
       "      <th>clean_variant_name_fixed</th>\n",
       "      <th>clean_pip_score</th>\n",
       "      <th>clean_p_value</th>\n",
       "      <th>clean_pip_score_filter</th>\n",
       "      <th>sequence_250bp</th>\n",
       "      <th>extracted_ref</th>\n",
       "      <th>original_ref</th>\n",
       "      <th>upload_timestamp</th>\n",
       "    </tr>\n",
       "  </thead>\n",
       "  <tbody>\n",
       "    <tr>\n",
       "      <th>0</th>\n",
       "      <td>rs6600249</td>\n",
       "      <td>chr1:24978669:T:C</td>\n",
       "      <td>0.020849</td>\n",
       "      <td>NaN</td>\n",
       "      <td>True</td>\n",
       "      <td>ATGTACCACCTCTTGTCTGGTGGTGTGAGCAACTCATTCCCCACCT...</td>\n",
       "      <td>T</td>\n",
       "      <td>T</td>\n",
       "      <td>2023-09-16 00:11:13.557774</td>\n",
       "    </tr>\n",
       "    <tr>\n",
       "      <th>1</th>\n",
       "      <td>rs4649040</td>\n",
       "      <td>chr1:24967411:C:T</td>\n",
       "      <td>0.003881</td>\n",
       "      <td>NaN</td>\n",
       "      <td>True</td>\n",
       "      <td>CCCCCCCAAGCCCCTATAACTTGATCACCCTGAGGGGCTTCCCCCT...</td>\n",
       "      <td>C</td>\n",
       "      <td>C</td>\n",
       "      <td>2023-09-16 00:11:13.557774</td>\n",
       "    </tr>\n",
       "    <tr>\n",
       "      <th>2</th>\n",
       "      <td>rs4648889</td>\n",
       "      <td>chr1:24967338:G:A</td>\n",
       "      <td>0.003881</td>\n",
       "      <td>NaN</td>\n",
       "      <td>True</td>\n",
       "      <td>caccaacaccgcctccAGTTTTGAACATACCACCCTACGTGCTTTG...</td>\n",
       "      <td>G</td>\n",
       "      <td>G</td>\n",
       "      <td>2023-09-16 00:11:13.557774</td>\n",
       "    </tr>\n",
       "    <tr>\n",
       "      <th>3</th>\n",
       "      <td>rs4265380</td>\n",
       "      <td>chr1:24966865:C:T</td>\n",
       "      <td>0.003881</td>\n",
       "      <td>NaN</td>\n",
       "      <td>True</td>\n",
       "      <td>ctctgggcctcagttttcttccctgtaaaatggggataacaccttc...</td>\n",
       "      <td>C</td>\n",
       "      <td>C</td>\n",
       "      <td>2023-09-16 00:11:13.557774</td>\n",
       "    </tr>\n",
       "    <tr>\n",
       "      <th>4</th>\n",
       "      <td>rs6600250</td>\n",
       "      <td>chr1:24978681:C:T</td>\n",
       "      <td>0.020849</td>\n",
       "      <td>NaN</td>\n",
       "      <td>True</td>\n",
       "      <td>TTGTCTGGTGGTGTGAGCAACTCATTCCCCACCTCTCATCCAGATA...</td>\n",
       "      <td>C</td>\n",
       "      <td>C</td>\n",
       "      <td>2023-09-16 00:11:13.557774</td>\n",
       "    </tr>\n",
       "  </tbody>\n",
       "</table>\n",
       "</div>"
      ],
      "text/plain": [
       "    rsid_key clean_variant_name_fixed  clean_pip_score  clean_p_value   \n",
       "0  rs6600249        chr1:24978669:T:C         0.020849            NaN  \\\n",
       "1  rs4649040        chr1:24967411:C:T         0.003881            NaN   \n",
       "2  rs4648889        chr1:24967338:G:A         0.003881            NaN   \n",
       "3  rs4265380        chr1:24966865:C:T         0.003881            NaN   \n",
       "4  rs6600250        chr1:24978681:C:T         0.020849            NaN   \n",
       "\n",
       "   clean_pip_score_filter                                     sequence_250bp   \n",
       "0                    True  ATGTACCACCTCTTGTCTGGTGGTGTGAGCAACTCATTCCCCACCT...  \\\n",
       "1                    True  CCCCCCCAAGCCCCTATAACTTGATCACCCTGAGGGGCTTCCCCCT...   \n",
       "2                    True  caccaacaccgcctccAGTTTTGAACATACCACCCTACGTGCTTTG...   \n",
       "3                    True  ctctgggcctcagttttcttccctgtaaaatggggataacaccttc...   \n",
       "4                    True  TTGTCTGGTGGTGTGAGCAACTCATTCCCCACCTCTCATCCAGATA...   \n",
       "\n",
       "  extracted_ref original_ref           upload_timestamp  \n",
       "0             T            T 2023-09-16 00:11:13.557774  \n",
       "1             C            C 2023-09-16 00:11:13.557774  \n",
       "2             G            G 2023-09-16 00:11:13.557774  \n",
       "3             C            C 2023-09-16 00:11:13.557774  \n",
       "4             C            C 2023-09-16 00:11:13.557774  "
      ]
     },
     "execution_count": 5,
     "metadata": {},
     "output_type": "execute_result"
    }
   ],
   "source": [
    "\n",
    "# Load the CSV data\n",
    "csv_path = \"../data/sample_data.csv\"\n",
    "data = pd.read_csv(csv_path)\n",
    "\n",
    "# Add a timestamp column with the current date and time\n",
    "data['upload_timestamp'] = datetime.datetime.now()\n",
    "\n",
    "# Display the data to inspect the new column\n",
    "data.head()"
   ]
  },
  {
   "cell_type": "code",
   "execution_count": 6,
   "metadata": {},
   "outputs": [
    {
     "name": "stdout",
     "output_type": "stream",
     "text": [
      "No duplicate rsid_key values found.\n"
     ]
    }
   ],
   "source": [
    "# Check for missing values in each column\n",
    "missing_values = data.isnull().sum()\n",
    "\n",
    "# Check for duplicate rsid_key values in the CSV data\n",
    "duplicate_rsid_keys = data[data.duplicated(subset=\"rsid_key\", keep=False)]\n",
    "\n",
    "if not duplicate_rsid_keys.empty:\n",
    "    print(\"Warning: Found duplicate rsid_key values in the CSV data!\")\n",
    "    display(duplicate_rsid_keys)\n",
    "else:\n",
    "    print(\"No duplicate rsid_key values found.\")\n"
   ]
  },
  {
   "cell_type": "markdown",
   "metadata": {},
   "source": [
    "## Store the Data in SQLite Database\n"
   ]
  },
  {
   "cell_type": "code",
   "execution_count": 7,
   "metadata": {},
   "outputs": [
    {
     "data": {
      "text/plain": [
       "692"
      ]
     },
     "execution_count": 7,
     "metadata": {},
     "output_type": "execute_result"
    }
   ],
   "source": [
    "# Insert the data into the genetic_data table\n",
    "# Note: The 'if_exists' parameter determines what to do if the table already exists. \n",
    "# 'replace' will replace existing data, while 'append' will insert new rows.\n",
    "data.to_sql('genetic_data', conn, if_exists='append', index=False)"
   ]
  },
  {
   "cell_type": "markdown",
   "metadata": {},
   "source": [
    "## Verify Database Upload\n"
   ]
  },
  {
   "cell_type": "code",
   "execution_count": 8,
   "metadata": {},
   "outputs": [
    {
     "data": {
      "text/html": [
       "<div>\n",
       "<style scoped>\n",
       "    .dataframe tbody tr th:only-of-type {\n",
       "        vertical-align: middle;\n",
       "    }\n",
       "\n",
       "    .dataframe tbody tr th {\n",
       "        vertical-align: top;\n",
       "    }\n",
       "\n",
       "    .dataframe thead th {\n",
       "        text-align: right;\n",
       "    }\n",
       "</style>\n",
       "<table border=\"1\" class=\"dataframe\">\n",
       "  <thead>\n",
       "    <tr style=\"text-align: right;\">\n",
       "      <th></th>\n",
       "      <th>id</th>\n",
       "      <th>rsid_key</th>\n",
       "      <th>clean_variant_name_fixed</th>\n",
       "      <th>clean_pip_score</th>\n",
       "      <th>clean_p_value</th>\n",
       "      <th>clean_pip_score_filter</th>\n",
       "      <th>sequence_250bp</th>\n",
       "      <th>extracted_ref</th>\n",
       "      <th>original_ref</th>\n",
       "      <th>upload_timestamp</th>\n",
       "    </tr>\n",
       "  </thead>\n",
       "  <tbody>\n",
       "    <tr>\n",
       "      <th>0</th>\n",
       "      <td>1</td>\n",
       "      <td>rs6600249</td>\n",
       "      <td>chr1:24978669:T:C</td>\n",
       "      <td>0.020849</td>\n",
       "      <td>None</td>\n",
       "      <td>1</td>\n",
       "      <td>ATGTACCACCTCTTGTCTGGTGGTGTGAGCAACTCATTCCCCACCT...</td>\n",
       "      <td>T</td>\n",
       "      <td>T</td>\n",
       "      <td>2023-09-16 00:11:13.557774</td>\n",
       "    </tr>\n",
       "    <tr>\n",
       "      <th>1</th>\n",
       "      <td>2</td>\n",
       "      <td>rs4649040</td>\n",
       "      <td>chr1:24967411:C:T</td>\n",
       "      <td>0.003881</td>\n",
       "      <td>None</td>\n",
       "      <td>1</td>\n",
       "      <td>CCCCCCCAAGCCCCTATAACTTGATCACCCTGAGGGGCTTCCCCCT...</td>\n",
       "      <td>C</td>\n",
       "      <td>C</td>\n",
       "      <td>2023-09-16 00:11:13.557774</td>\n",
       "    </tr>\n",
       "    <tr>\n",
       "      <th>2</th>\n",
       "      <td>3</td>\n",
       "      <td>rs4648889</td>\n",
       "      <td>chr1:24967338:G:A</td>\n",
       "      <td>0.003881</td>\n",
       "      <td>None</td>\n",
       "      <td>1</td>\n",
       "      <td>caccaacaccgcctccAGTTTTGAACATACCACCCTACGTGCTTTG...</td>\n",
       "      <td>G</td>\n",
       "      <td>G</td>\n",
       "      <td>2023-09-16 00:11:13.557774</td>\n",
       "    </tr>\n",
       "    <tr>\n",
       "      <th>3</th>\n",
       "      <td>4</td>\n",
       "      <td>rs4265380</td>\n",
       "      <td>chr1:24966865:C:T</td>\n",
       "      <td>0.003881</td>\n",
       "      <td>None</td>\n",
       "      <td>1</td>\n",
       "      <td>ctctgggcctcagttttcttccctgtaaaatggggataacaccttc...</td>\n",
       "      <td>C</td>\n",
       "      <td>C</td>\n",
       "      <td>2023-09-16 00:11:13.557774</td>\n",
       "    </tr>\n",
       "    <tr>\n",
       "      <th>4</th>\n",
       "      <td>5</td>\n",
       "      <td>rs6600250</td>\n",
       "      <td>chr1:24978681:C:T</td>\n",
       "      <td>0.020849</td>\n",
       "      <td>None</td>\n",
       "      <td>1</td>\n",
       "      <td>TTGTCTGGTGGTGTGAGCAACTCATTCCCCACCTCTCATCCAGATA...</td>\n",
       "      <td>C</td>\n",
       "      <td>C</td>\n",
       "      <td>2023-09-16 00:11:13.557774</td>\n",
       "    </tr>\n",
       "  </tbody>\n",
       "</table>\n",
       "</div>"
      ],
      "text/plain": [
       "   id   rsid_key clean_variant_name_fixed  clean_pip_score clean_p_value   \n",
       "0   1  rs6600249        chr1:24978669:T:C         0.020849          None  \\\n",
       "1   2  rs4649040        chr1:24967411:C:T         0.003881          None   \n",
       "2   3  rs4648889        chr1:24967338:G:A         0.003881          None   \n",
       "3   4  rs4265380        chr1:24966865:C:T         0.003881          None   \n",
       "4   5  rs6600250        chr1:24978681:C:T         0.020849          None   \n",
       "\n",
       "  clean_pip_score_filter                                     sequence_250bp   \n",
       "0                      1  ATGTACCACCTCTTGTCTGGTGGTGTGAGCAACTCATTCCCCACCT...  \\\n",
       "1                      1  CCCCCCCAAGCCCCTATAACTTGATCACCCTGAGGGGCTTCCCCCT...   \n",
       "2                      1  caccaacaccgcctccAGTTTTGAACATACCACCCTACGTGCTTTG...   \n",
       "3                      1  ctctgggcctcagttttcttccctgtaaaatggggataacaccttc...   \n",
       "4                      1  TTGTCTGGTGGTGTGAGCAACTCATTCCCCACCTCTCATCCAGATA...   \n",
       "\n",
       "  extracted_ref original_ref            upload_timestamp  \n",
       "0             T            T  2023-09-16 00:11:13.557774  \n",
       "1             C            C  2023-09-16 00:11:13.557774  \n",
       "2             G            G  2023-09-16 00:11:13.557774  \n",
       "3             C            C  2023-09-16 00:11:13.557774  \n",
       "4             C            C  2023-09-16 00:11:13.557774  "
      ]
     },
     "execution_count": 8,
     "metadata": {},
     "output_type": "execute_result"
    }
   ],
   "source": [
    "# Fetch the first few rows from the database to verify\n",
    "query = \"SELECT * FROM genetic_data LIMIT 5;\"\n",
    "pd.read_sql(query, conn)\n"
   ]
  },
  {
   "cell_type": "markdown",
   "metadata": {},
   "source": [
    "The data has been successfully uploaded to the SQLite database. Make sure to thoroughly inspect and validate the data.\n"
   ]
  }
 ],
 "metadata": {
  "kernelspec": {
   "display_name": "venv",
   "language": "python",
   "name": "venv"
  },
  "language_info": {
   "codemirror_mode": {
    "name": "ipython",
    "version": 3
   },
   "file_extension": ".py",
   "mimetype": "text/x-python",
   "name": "python",
   "nbconvert_exporter": "python",
   "pygments_lexer": "ipython3",
   "version": "3.10.12"
  },
  "orig_nbformat": 4
 },
 "nbformat": 4,
 "nbformat_minor": 2
}
